{
 "cells": [
  {
   "cell_type": "code",
   "execution_count": 1,
   "metadata": {},
   "outputs": [
    {
     "name": "stderr",
     "output_type": "stream",
     "text": [
      "c:\\Program Files\\Python38\\lib\\site-packages\\tqdm\\auto.py:21: TqdmWarning: IProgress not found. Please update jupyter and ipywidgets. See https://ipywidgets.readthedocs.io/en/stable/user_install.html\n",
      "  from .autonotebook import tqdm as notebook_tqdm\n"
     ]
    }
   ],
   "source": [
    "from __future__ import print_function\n",
    "import torch\n",
    "import torch.nn as nn\n",
    "import torch.nn.functional as F\n",
    "import torch.optim as optim\n",
    "from torchvision import datasets, transforms"
   ]
  },
  {
   "cell_type": "code",
   "execution_count": 2,
   "metadata": {},
   "outputs": [],
   "source": [
    "train_transforms = transforms.Compose([\n",
    "    transforms.ColorJitter(brightness=0.2,contrast=0.2,saturation=0.2,hue=0.2),\n",
    "    transforms.RandomRotation((-5.0,5.0), fill=(1,)),\n",
    "    transforms.ToTensor(),\n",
    "    transforms.Normalize(mean=(0.1307,),std=(0.3081))\n",
    "])\n",
    "\n",
    "test_transforms = transforms.Compose([\n",
    "\n",
    "    transforms.ToTensor(),\n",
    "    transforms.Normalize(mean=(0.1307,),std=(0.3081,))\n",
    "\n",
    "])"
   ]
  },
  {
   "cell_type": "code",
   "execution_count": 3,
   "metadata": {},
   "outputs": [],
   "source": [
    "train= datasets.mnist.MNIST(root=\"./data\",train=True,download=True,transform=train_transforms)\n",
    "test = datasets.mnist.MNIST(root=\"./data\",train=False,download=True,transform=test_transforms)"
   ]
  },
  {
   "cell_type": "code",
   "execution_count": 4,
   "metadata": {},
   "outputs": [],
   "source": [
    "SEED = 42\n",
    "cuda  = torch.cuda.is_available()\n",
    "\n",
    "if cuda:\n",
    "    torch.cuda.manual_seed(SEED)\n",
    "\n",
    "dataloader_args = dict(shuffle=True,batch_size=128,num_workers=4,pin_memory=True) if cuda else dict(batch_Size=128,shuffle=True)\n",
    "\n",
    "train_loader = torch.utils.data.DataLoader(train,**dataloader_args)\n",
    "test_loader = torch.utils.data.DataLoader(test,**dataloader_args)"
   ]
  },
  {
   "cell_type": "code",
   "execution_count": 5,
   "metadata": {},
   "outputs": [],
   "source": [
    "# from S7.model_test import *\n",
    "from model3 import ThirdModel\n",
    "from utils import *"
   ]
  },
  {
   "cell_type": "code",
   "execution_count": 6,
   "metadata": {},
   "outputs": [
    {
     "name": "stdout",
     "output_type": "stream",
     "text": [
      "Defaulting to user installation because normal site-packages is not writeable\n",
      "Requirement already satisfied: torchsummary in c:\\users\\sriharsha\\appdata\\roaming\\python\\python38\\site-packages (1.5.1)\n",
      "cuda\n",
      "----------------------------------------------------------------\n",
      "        Layer (type)               Output Shape         Param #\n",
      "================================================================\n",
      "            Conv2d-1           [-1, 10, 28, 28]             100\n",
      "       BatchNorm2d-2           [-1, 10, 28, 28]              20\n",
      "              ReLU-3           [-1, 10, 28, 28]               0\n",
      "           Dropout-4           [-1, 10, 28, 28]               0\n",
      "            Conv2d-5           [-1, 10, 26, 26]             910\n",
      "       BatchNorm2d-6           [-1, 10, 26, 26]              20\n",
      "              ReLU-7           [-1, 10, 26, 26]               0\n",
      "           Dropout-8           [-1, 10, 26, 26]               0\n",
      "            Conv2d-9           [-1, 20, 24, 24]           1,820\n",
      "      BatchNorm2d-10           [-1, 20, 24, 24]              40\n",
      "             ReLU-11           [-1, 20, 24, 24]               0\n",
      "          Dropout-12           [-1, 20, 24, 24]               0\n",
      "           Conv2d-13           [-1, 10, 24, 24]             210\n",
      "      BatchNorm2d-14           [-1, 10, 24, 24]              20\n",
      "             ReLU-15           [-1, 10, 24, 24]               0\n",
      "          Dropout-16           [-1, 10, 24, 24]               0\n",
      "        MaxPool2d-17           [-1, 10, 12, 12]               0\n",
      "           Conv2d-18           [-1, 10, 10, 10]             910\n",
      "      BatchNorm2d-19           [-1, 10, 10, 10]              20\n",
      "             ReLU-20           [-1, 10, 10, 10]               0\n",
      "          Dropout-21           [-1, 10, 10, 10]               0\n",
      "           Conv2d-22             [-1, 10, 8, 8]             910\n",
      "      BatchNorm2d-23             [-1, 10, 8, 8]              20\n",
      "             ReLU-24             [-1, 10, 8, 8]               0\n",
      "          Dropout-25             [-1, 10, 8, 8]               0\n",
      "           Conv2d-26             [-1, 10, 6, 6]             910\n",
      "      BatchNorm2d-27             [-1, 10, 6, 6]              20\n",
      "             ReLU-28             [-1, 10, 6, 6]               0\n",
      "          Dropout-29             [-1, 10, 6, 6]               0\n",
      "           Conv2d-30             [-1, 18, 6, 6]           1,638\n",
      "      BatchNorm2d-31             [-1, 18, 6, 6]              36\n",
      "             ReLU-32             [-1, 18, 6, 6]               0\n",
      "          Dropout-33             [-1, 18, 6, 6]               0\n",
      "        AvgPool2d-34             [-1, 18, 1, 1]               0\n",
      "           Conv2d-35             [-1, 10, 1, 1]             190\n",
      "================================================================\n",
      "Total params: 7,794\n",
      "Trainable params: 7,794\n",
      "Non-trainable params: 0\n",
      "----------------------------------------------------------------\n",
      "Input size (MB): 0.00\n",
      "Forward/backward pass size (MB): 1.06\n",
      "Params size (MB): 0.03\n",
      "Estimated Total Size (MB): 1.10\n",
      "----------------------------------------------------------------\n"
     ]
    }
   ],
   "source": [
    "!pip install torchsummary\n",
    "from torchsummary import summary\n",
    "use_cuda = torch.cuda.is_available()\n",
    "device = torch.device(\"cuda\" if use_cuda else \"cpu\")\n",
    "print(device)\n",
    "model = ThirdModel().to(device)\n",
    "summary(model, input_size=(1, 28, 28))"
   ]
  },
  {
   "cell_type": "code",
   "execution_count": 7,
   "metadata": {},
   "outputs": [
    {
     "name": "stdout",
     "output_type": "stream",
     "text": [
      "EPOCH: 0\n"
     ]
    },
    {
     "name": "stderr",
     "output_type": "stream",
     "text": [
      "Loss = 0.19458478689193726,batch_idx = 468, accuracy = 76.61666666666666: 100%|██████████| 469/469 [00:14<00:00, 31.46it/s] \n"
     ]
    },
    {
     "name": "stdout",
     "output_type": "stream",
     "text": [
      "\n",
      " Test set Avg Loss = 1292.8140, Accuracy 9693/10000,(96.93%)\n",
      "\n",
      "EPOCH: 1\n"
     ]
    },
    {
     "name": "stderr",
     "output_type": "stream",
     "text": [
      "Loss = 0.11153829097747803,batch_idx = 468, accuracy = 96.465: 100%|██████████| 469/469 [00:16<00:00, 29.00it/s]            \n"
     ]
    },
    {
     "name": "stdout",
     "output_type": "stream",
     "text": [
      "\n",
      " Test set Avg Loss = 859.5465, Accuracy 9737/10000,(97.37%)\n",
      "\n",
      "EPOCH: 2\n"
     ]
    },
    {
     "name": "stderr",
     "output_type": "stream",
     "text": [
      "Loss = 0.058339182287454605,batch_idx = 468, accuracy = 97.36666666666666: 100%|██████████| 469/469 [00:16<00:00, 27.79it/s]\n"
     ]
    },
    {
     "name": "stdout",
     "output_type": "stream",
     "text": [
      "\n",
      " Test set Avg Loss = 434.7440, Accuracy 9872/10000,(98.72%)\n",
      "\n",
      "EPOCH: 3\n"
     ]
    },
    {
     "name": "stderr",
     "output_type": "stream",
     "text": [
      "Loss = 0.0687614232301712,batch_idx = 468, accuracy = 97.72166666666666: 100%|██████████| 469/469 [00:17<00:00, 27.59it/s]  \n"
     ]
    },
    {
     "name": "stdout",
     "output_type": "stream",
     "text": [
      "\n",
      " Test set Avg Loss = 462.5088, Accuracy 9865/10000,(98.65%)\n",
      "\n",
      "EPOCH: 4\n"
     ]
    },
    {
     "name": "stderr",
     "output_type": "stream",
     "text": [
      "Loss = 0.06962792575359344,batch_idx = 468, accuracy = 97.84166666666667: 100%|██████████| 469/469 [00:16<00:00, 27.83it/s] \n"
     ]
    },
    {
     "name": "stdout",
     "output_type": "stream",
     "text": [
      "\n",
      " Test set Avg Loss = 446.8189, Accuracy 9865/10000,(98.65%)\n",
      "\n",
      "EPOCH: 5\n"
     ]
    },
    {
     "name": "stderr",
     "output_type": "stream",
     "text": [
      "Loss = 0.18190371990203857,batch_idx = 468, accuracy = 98.035: 100%|██████████| 469/469 [00:16<00:00, 27.63it/s]            \n"
     ]
    },
    {
     "name": "stdout",
     "output_type": "stream",
     "text": [
      "\n",
      " Test set Avg Loss = 394.1278, Accuracy 9891/10000,(98.91%)\n",
      "\n",
      "EPOCH: 6\n"
     ]
    },
    {
     "name": "stderr",
     "output_type": "stream",
     "text": [
      "Loss = 0.03796638920903206,batch_idx = 468, accuracy = 98.18: 100%|██████████| 469/469 [00:17<00:00, 27.34it/s]             \n"
     ]
    },
    {
     "name": "stdout",
     "output_type": "stream",
     "text": [
      "\n",
      " Test set Avg Loss = 351.7299, Accuracy 9888/10000,(98.88%)\n",
      "\n",
      "EPOCH: 7\n"
     ]
    },
    {
     "name": "stderr",
     "output_type": "stream",
     "text": [
      "Loss = 0.050467777997255325,batch_idx = 468, accuracy = 98.24166666666666: 100%|██████████| 469/469 [00:17<00:00, 27.58it/s]\n"
     ]
    },
    {
     "name": "stdout",
     "output_type": "stream",
     "text": [
      "\n",
      " Test set Avg Loss = 369.0255, Accuracy 9885/10000,(98.85%)\n",
      "\n",
      "EPOCH: 8\n"
     ]
    },
    {
     "name": "stderr",
     "output_type": "stream",
     "text": [
      "Loss = 0.08739448338747025,batch_idx = 468, accuracy = 98.30833333333334: 100%|██████████| 469/469 [00:17<00:00, 27.43it/s] \n"
     ]
    },
    {
     "name": "stdout",
     "output_type": "stream",
     "text": [
      "\n",
      " Test set Avg Loss = 321.4460, Accuracy 9898/10000,(98.98%)\n",
      "\n",
      "EPOCH: 9\n"
     ]
    },
    {
     "name": "stderr",
     "output_type": "stream",
     "text": [
      "Loss = 0.04206668213009834,batch_idx = 468, accuracy = 98.37: 100%|██████████| 469/469 [00:17<00:00, 27.40it/s]             \n"
     ]
    },
    {
     "name": "stdout",
     "output_type": "stream",
     "text": [
      "\n",
      " Test set Avg Loss = 338.6025, Accuracy 9897/10000,(98.97%)\n",
      "\n",
      "EPOCH: 10\n"
     ]
    },
    {
     "name": "stderr",
     "output_type": "stream",
     "text": [
      "Loss = 0.03763390704989433,batch_idx = 468, accuracy = 98.50166666666667: 100%|██████████| 469/469 [00:17<00:00, 27.36it/s]  \n"
     ]
    },
    {
     "name": "stdout",
     "output_type": "stream",
     "text": [
      "\n",
      " Test set Avg Loss = 288.9304, Accuracy 9911/10000,(99.11%)\n",
      "\n",
      "EPOCH: 11\n"
     ]
    },
    {
     "name": "stderr",
     "output_type": "stream",
     "text": [
      "Loss = 0.05369331315159798,batch_idx = 468, accuracy = 98.45666666666666: 100%|██████████| 469/469 [00:17<00:00, 26.81it/s] \n"
     ]
    },
    {
     "name": "stdout",
     "output_type": "stream",
     "text": [
      "\n",
      " Test set Avg Loss = 324.5832, Accuracy 9894/10000,(98.94%)\n",
      "\n",
      "EPOCH: 12\n"
     ]
    },
    {
     "name": "stderr",
     "output_type": "stream",
     "text": [
      "Loss = 0.02430134080350399,batch_idx = 468, accuracy = 98.45666666666666: 100%|██████████| 469/469 [00:17<00:00, 27.41it/s] \n"
     ]
    },
    {
     "name": "stdout",
     "output_type": "stream",
     "text": [
      "\n",
      " Test set Avg Loss = 291.4651, Accuracy 9908/10000,(99.08%)\n",
      "\n",
      "EPOCH: 13\n"
     ]
    },
    {
     "name": "stderr",
     "output_type": "stream",
     "text": [
      "Loss = 0.020918309688568115,batch_idx = 468, accuracy = 98.57166666666667: 100%|██████████| 469/469 [00:17<00:00, 27.39it/s]\n"
     ]
    },
    {
     "name": "stdout",
     "output_type": "stream",
     "text": [
      "\n",
      " Test set Avg Loss = 310.2034, Accuracy 9896/10000,(98.96%)\n",
      "\n",
      "EPOCH: 14\n"
     ]
    },
    {
     "name": "stderr",
     "output_type": "stream",
     "text": [
      "Loss = 0.008316860534250736,batch_idx = 468, accuracy = 98.65833333333333: 100%|██████████| 469/469 [00:17<00:00, 27.45it/s] \n"
     ]
    },
    {
     "name": "stdout",
     "output_type": "stream",
     "text": [
      "\n",
      " Test set Avg Loss = 292.6237, Accuracy 9914/10000,(99.14%)\n",
      "\n"
     ]
    }
   ],
   "source": [
    "model =  ThirdModel().to(device)\n",
    "optimizer = optim.SGD(model.parameters(), lr=0.01, momentum=0.9)\n",
    "EPOCHS = 15\n",
    "for epoch in range(EPOCHS):\n",
    "    print(\"EPOCH:\", epoch)\n",
    "    train(model, device, train_loader,optimizer, epoch)\n",
    "    test(model, device, test_loader,epoch)"
   ]
  },
  {
   "cell_type": "code",
   "execution_count": null,
   "metadata": {},
   "outputs": [],
   "source": []
  },
  {
   "cell_type": "code",
   "execution_count": null,
   "metadata": {},
   "outputs": [],
   "source": []
  },
  {
   "cell_type": "code",
   "execution_count": null,
   "metadata": {},
   "outputs": [],
   "source": []
  }
 ],
 "metadata": {
  "kernelspec": {
   "display_name": "Python 3",
   "language": "python",
   "name": "python3"
  },
  "language_info": {
   "codemirror_mode": {
    "name": "ipython",
    "version": 3
   },
   "file_extension": ".py",
   "mimetype": "text/x-python",
   "name": "python",
   "nbconvert_exporter": "python",
   "pygments_lexer": "ipython3",
   "version": "3.8.7"
  }
 },
 "nbformat": 4,
 "nbformat_minor": 2
}
