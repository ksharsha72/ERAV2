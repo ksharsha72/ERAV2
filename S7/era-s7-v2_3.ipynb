{
 "cells": [
  {
   "cell_type": "code",
   "execution_count": 1,
   "metadata": {},
   "outputs": [
    {
     "name": "stderr",
     "output_type": "stream",
     "text": [
      "c:\\Program Files\\Python38\\lib\\site-packages\\tqdm\\auto.py:21: TqdmWarning: IProgress not found. Please update jupyter and ipywidgets. See https://ipywidgets.readthedocs.io/en/stable/user_install.html\n",
      "  from .autonotebook import tqdm as notebook_tqdm\n"
     ]
    }
   ],
   "source": [
    "from __future__ import print_function\n",
    "import torch\n",
    "import torch.nn as nn\n",
    "import torch.nn.functional as F\n",
    "import torch.optim as optim\n",
    "from torchvision import datasets, transforms"
   ]
  },
  {
   "cell_type": "code",
   "execution_count": 2,
   "metadata": {},
   "outputs": [],
   "source": [
    "train_transforms = transforms.Compose([\n",
    "    transforms.ColorJitter(brightness=0.2,contrast=0.2,saturation=0.2,hue=0.2),\n",
    "    transforms.RandomRotation((-5.0,5.0), fill=(1,)),\n",
    "    transforms.ToTensor(),\n",
    "    transforms.Normalize(mean=(0.1307,),std=(0.3081))\n",
    "])\n",
    "\n",
    "test_transforms = transforms.Compose([\n",
    "\n",
    "    transforms.ToTensor(),\n",
    "    transforms.Normalize(mean=(0.1307,),std=(0.3081,))\n",
    "\n",
    "])"
   ]
  },
  {
   "cell_type": "code",
   "execution_count": 3,
   "metadata": {},
   "outputs": [],
   "source": [
    "train= datasets.mnist.MNIST(root=\"./data\",train=True,download=True,transform=train_transforms)\n",
    "test = datasets.mnist.MNIST(root=\"./data\",train=False,download=True,transform=test_transforms)"
   ]
  },
  {
   "cell_type": "code",
   "execution_count": 4,
   "metadata": {},
   "outputs": [],
   "source": [
    "SEED = 42\n",
    "cuda  = torch.cuda.is_available()\n",
    "\n",
    "if cuda:\n",
    "    torch.cuda.manual_seed(SEED)\n",
    "\n",
    "dataloader_args = dict(shuffle=True,batch_size=128,num_workers=4,pin_memory=True) if cuda else dict(batch_Size=128,shuffle=True)\n",
    "\n",
    "train_loader = torch.utils.data.DataLoader(train,**dataloader_args)\n",
    "test_loader = torch.utils.data.DataLoader(test,**dataloader_args)"
   ]
  },
  {
   "cell_type": "code",
   "execution_count": 5,
   "metadata": {},
   "outputs": [],
   "source": [
    "# from S7.model_test import *\n",
    "from modelv2_4 import ModelV2\n",
    "from utils import *"
   ]
  },
  {
   "cell_type": "code",
   "execution_count": 6,
   "metadata": {},
   "outputs": [
    {
     "name": "stdout",
     "output_type": "stream",
     "text": [
      "Defaulting to user installation because normal site-packages is not writeable\n",
      "Requirement already satisfied: torchsummary in c:\\users\\sriharsha\\appdata\\roaming\\python\\python38\\site-packages (1.5.1)\n",
      "cuda\n",
      "----------------------------------------------------------------\n",
      "        Layer (type)               Output Shape         Param #\n",
      "================================================================\n",
      "            Conv2d-1            [-1, 8, 26, 26]              80\n",
      "       BatchNorm2d-2            [-1, 8, 26, 26]              16\n",
      "              ReLU-3            [-1, 8, 26, 26]               0\n",
      "           Dropout-4            [-1, 8, 26, 26]               0\n",
      "            Conv2d-5           [-1, 12, 26, 26]             876\n",
      "       BatchNorm2d-6           [-1, 12, 26, 26]              24\n",
      "              ReLU-7           [-1, 12, 26, 26]               0\n",
      "           Dropout-8           [-1, 12, 26, 26]               0\n",
      "            Conv2d-9           [-1, 10, 26, 26]             130\n",
      "      BatchNorm2d-10           [-1, 10, 26, 26]              20\n",
      "             ReLU-11           [-1, 10, 26, 26]               0\n",
      "          Dropout-12           [-1, 10, 26, 26]               0\n",
      "        MaxPool2d-13           [-1, 10, 13, 13]               0\n",
      "           Conv2d-14           [-1, 12, 11, 11]           1,092\n",
      "      BatchNorm2d-15           [-1, 12, 11, 11]              24\n",
      "             ReLU-16           [-1, 12, 11, 11]               0\n",
      "          Dropout-17           [-1, 12, 11, 11]               0\n",
      "           Conv2d-18             [-1, 10, 9, 9]           1,090\n",
      "      BatchNorm2d-19             [-1, 10, 9, 9]              20\n",
      "             ReLU-20             [-1, 10, 9, 9]               0\n",
      "          Dropout-21             [-1, 10, 9, 9]               0\n",
      "           Conv2d-22             [-1, 16, 7, 7]           1,456\n",
      "      BatchNorm2d-23             [-1, 16, 7, 7]              32\n",
      "             ReLU-24             [-1, 16, 7, 7]               0\n",
      "          Dropout-25             [-1, 16, 7, 7]               0\n",
      "           Conv2d-26             [-1, 18, 5, 5]           2,610\n",
      "      BatchNorm2d-27             [-1, 18, 5, 5]              36\n",
      "             ReLU-28             [-1, 18, 5, 5]               0\n",
      "          Dropout-29             [-1, 18, 5, 5]               0\n",
      "        AvgPool2d-30             [-1, 18, 1, 1]               0\n",
      "           Conv2d-31             [-1, 10, 1, 1]             190\n",
      "================================================================\n",
      "Total params: 7,696\n",
      "Trainable params: 7,696\n",
      "Non-trainable params: 0\n",
      "----------------------------------------------------------------\n",
      "Input size (MB): 0.00\n",
      "Forward/backward pass size (MB): 0.74\n",
      "Params size (MB): 0.03\n",
      "Estimated Total Size (MB): 0.77\n",
      "----------------------------------------------------------------\n"
     ]
    }
   ],
   "source": [
    "!pip install torchsummary\n",
    "from torchsummary import summary\n",
    "use_cuda = torch.cuda.is_available()\n",
    "device = torch.device(\"cuda\" if use_cuda else \"cpu\")\n",
    "print(device)\n",
    "model = ModelV2().to(device)\n",
    "summary(model, input_size=(1, 28, 28))"
   ]
  },
  {
   "cell_type": "code",
   "execution_count": 7,
   "metadata": {},
   "outputs": [
    {
     "name": "stdout",
     "output_type": "stream",
     "text": [
      "EPOCH: 0\n"
     ]
    },
    {
     "name": "stderr",
     "output_type": "stream",
     "text": [
      "  0%|          | 0/469 [00:00<?, ?it/s]"
     ]
    },
    {
     "name": "stderr",
     "output_type": "stream",
     "text": [
      "Loss = 0.15089045464992523,batch_idx = 468, accuracy = 85.305: 100%|██████████| 469/469 [00:20<00:00, 22.44it/s]           \n"
     ]
    },
    {
     "name": "stdout",
     "output_type": "stream",
     "text": [
      "\n",
      " Test set Avg Loss = 897.7004, Accuracy 9776/10000,(97.76%)\n",
      "\n",
      "EPOCH: 1\n"
     ]
    },
    {
     "name": "stderr",
     "output_type": "stream",
     "text": [
      "Loss = 0.10434996336698532,batch_idx = 468, accuracy = 97.18166666666667: 100%|██████████| 469/469 [00:21<00:00, 21.33it/s] \n"
     ]
    },
    {
     "name": "stdout",
     "output_type": "stream",
     "text": [
      "\n",
      " Test set Avg Loss = 559.9265, Accuracy 9842/10000,(98.42%)\n",
      "\n",
      "EPOCH: 2\n"
     ]
    },
    {
     "name": "stderr",
     "output_type": "stream",
     "text": [
      "Loss = 0.0771602913737297,batch_idx = 468, accuracy = 97.85666666666667: 100%|██████████| 469/469 [00:21<00:00, 21.82it/s]  \n"
     ]
    },
    {
     "name": "stdout",
     "output_type": "stream",
     "text": [
      "\n",
      " Test set Avg Loss = 471.8978, Accuracy 9856/10000,(98.56%)\n",
      "\n",
      "EPOCH: 3\n"
     ]
    },
    {
     "name": "stderr",
     "output_type": "stream",
     "text": [
      "Loss = 0.02509217895567417,batch_idx = 468, accuracy = 98.185: 100%|██████████| 469/469 [00:29<00:00, 15.98it/s]            \n"
     ]
    },
    {
     "name": "stdout",
     "output_type": "stream",
     "text": [
      "\n",
      " Test set Avg Loss = 366.5658, Accuracy 9887/10000,(98.87%)\n",
      "\n",
      "EPOCH: 4\n"
     ]
    },
    {
     "name": "stderr",
     "output_type": "stream",
     "text": [
      "Loss = 0.05002492666244507,batch_idx = 468, accuracy = 98.35166666666667: 100%|██████████| 469/469 [00:23<00:00, 20.18it/s] \n"
     ]
    },
    {
     "name": "stdout",
     "output_type": "stream",
     "text": [
      "\n",
      " Test set Avg Loss = 305.7100, Accuracy 9909/10000,(99.09%)\n",
      "\n",
      "EPOCH: 5\n"
     ]
    },
    {
     "name": "stderr",
     "output_type": "stream",
     "text": [
      "Loss = 0.07691881060600281,batch_idx = 468, accuracy = 98.45666666666666: 100%|██████████| 469/469 [00:21<00:00, 21.48it/s] \n"
     ]
    },
    {
     "name": "stdout",
     "output_type": "stream",
     "text": [
      "\n",
      " Test set Avg Loss = 319.3893, Accuracy 9905/10000,(99.05%)\n",
      "\n",
      "EPOCH: 6\n"
     ]
    },
    {
     "name": "stderr",
     "output_type": "stream",
     "text": [
      "Loss = 0.05526222661137581,batch_idx = 468, accuracy = 98.55: 100%|██████████| 469/469 [00:21<00:00, 21.43it/s]             \n"
     ]
    },
    {
     "name": "stdout",
     "output_type": "stream",
     "text": [
      "\n",
      " Test set Avg Loss = 269.4007, Accuracy 9925/10000,(99.25%)\n",
      "\n",
      "EPOCH: 7\n"
     ]
    },
    {
     "name": "stderr",
     "output_type": "stream",
     "text": [
      "Loss = 0.03323708474636078,batch_idx = 468, accuracy = 98.94: 100%|██████████| 469/469 [00:19<00:00, 23.77it/s]              \n"
     ]
    },
    {
     "name": "stdout",
     "output_type": "stream",
     "text": [
      "\n",
      " Test set Avg Loss = 225.9461, Accuracy 9943/10000,(99.43%)\n",
      "\n",
      "EPOCH: 8\n"
     ]
    },
    {
     "name": "stderr",
     "output_type": "stream",
     "text": [
      "Loss = 0.036533307284116745,batch_idx = 468, accuracy = 98.94: 100%|██████████| 469/469 [00:19<00:00, 24.62it/s]            \n"
     ]
    },
    {
     "name": "stdout",
     "output_type": "stream",
     "text": [
      "\n",
      " Test set Avg Loss = 214.7986, Accuracy 9943/10000,(99.43%)\n",
      "\n",
      "EPOCH: 9\n"
     ]
    },
    {
     "name": "stderr",
     "output_type": "stream",
     "text": [
      "Loss = 0.01795259118080139,batch_idx = 468, accuracy = 98.975: 100%|██████████| 469/469 [00:18<00:00, 25.32it/s]             \n"
     ]
    },
    {
     "name": "stdout",
     "output_type": "stream",
     "text": [
      "\n",
      " Test set Avg Loss = 214.2331, Accuracy 9939/10000,(99.39%)\n",
      "\n",
      "EPOCH: 10\n"
     ]
    },
    {
     "name": "stderr",
     "output_type": "stream",
     "text": [
      "Loss = 0.07074754685163498,batch_idx = 468, accuracy = 98.91333333333333: 100%|██████████| 469/469 [00:19<00:00, 24.44it/s]  \n"
     ]
    },
    {
     "name": "stdout",
     "output_type": "stream",
     "text": [
      "\n",
      " Test set Avg Loss = 231.8796, Accuracy 9935/10000,(99.35%)\n",
      "\n",
      "EPOCH: 11\n"
     ]
    },
    {
     "name": "stderr",
     "output_type": "stream",
     "text": [
      "Loss = 0.02624734304845333,batch_idx = 468, accuracy = 98.97833333333334: 100%|██████████| 469/469 [00:21<00:00, 21.68it/s]  \n"
     ]
    },
    {
     "name": "stdout",
     "output_type": "stream",
     "text": [
      "\n",
      " Test set Avg Loss = 220.2219, Accuracy 9941/10000,(99.41%)\n",
      "\n",
      "EPOCH: 12\n"
     ]
    },
    {
     "name": "stderr",
     "output_type": "stream",
     "text": [
      "Loss = 0.026944393292069435,batch_idx = 468, accuracy = 99.00833333333334: 100%|██████████| 469/469 [00:20<00:00, 22.35it/s] \n"
     ]
    },
    {
     "name": "stdout",
     "output_type": "stream",
     "text": [
      "\n",
      " Test set Avg Loss = 206.5304, Accuracy 9943/10000,(99.43%)\n",
      "\n",
      "EPOCH: 13\n"
     ]
    },
    {
     "name": "stderr",
     "output_type": "stream",
     "text": [
      "Loss = 0.05286416411399841,batch_idx = 468, accuracy = 98.97333333333333: 100%|██████████| 469/469 [00:21<00:00, 22.33it/s]  \n"
     ]
    },
    {
     "name": "stdout",
     "output_type": "stream",
     "text": [
      "\n",
      " Test set Avg Loss = 211.4648, Accuracy 9941/10000,(99.41%)\n",
      "\n",
      "EPOCH: 14\n"
     ]
    },
    {
     "name": "stderr",
     "output_type": "stream",
     "text": [
      "Loss = 0.022360561415553093,batch_idx = 468, accuracy = 99.00333333333333: 100%|██████████| 469/469 [00:21<00:00, 22.19it/s] \n"
     ]
    },
    {
     "name": "stdout",
     "output_type": "stream",
     "text": [
      "\n",
      " Test set Avg Loss = 216.5235, Accuracy 9945/10000,(99.45%)\n",
      "\n"
     ]
    }
   ],
   "source": [
    "from torch.optim.lr_scheduler import StepLR\n",
    "\n",
    "model =  ModelV2().to(device)\n",
    "optimizer = optim.SGD(model.parameters(), lr=0.01, momentum=0.9)\n",
    "scheduler = StepLR(optimizer,step_size=7,gamma=0.1)\n",
    "EPOCHS = 15\n",
    "for epoch in range(EPOCHS):\n",
    "    print(\"EPOCH:\", epoch)\n",
    "    train(model, device, train_loader,optimizer, epoch)\n",
    "    scheduler.step()\n",
    "    test(model, device, test_loader,epoch)"
   ]
  },
  {
   "cell_type": "code",
   "execution_count": 8,
   "metadata": {},
   "outputs": [],
   "source": [
    "from torch.optim.lr_scheduler import StepLR\n",
    "scheduler = StepLR(optimizer,step_size=6)"
   ]
  },
  {
   "cell_type": "code",
   "execution_count": null,
   "metadata": {},
   "outputs": [],
   "source": []
  },
  {
   "cell_type": "code",
   "execution_count": null,
   "metadata": {},
   "outputs": [],
   "source": []
  }
 ],
 "metadata": {
  "kernelspec": {
   "display_name": "Python 3",
   "language": "python",
   "name": "python3"
  },
  "language_info": {
   "codemirror_mode": {
    "name": "ipython",
    "version": 3
   },
   "file_extension": ".py",
   "mimetype": "text/x-python",
   "name": "python",
   "nbconvert_exporter": "python",
   "pygments_lexer": "ipython3",
   "version": "3.8.7"
  }
 },
 "nbformat": 4,
 "nbformat_minor": 2
}
