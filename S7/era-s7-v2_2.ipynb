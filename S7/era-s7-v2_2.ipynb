{
 "cells": [
  {
   "cell_type": "code",
   "execution_count": 1,
   "metadata": {},
   "outputs": [
    {
     "name": "stderr",
     "output_type": "stream",
     "text": [
      "c:\\Program Files\\Python38\\lib\\site-packages\\tqdm\\auto.py:21: TqdmWarning: IProgress not found. Please update jupyter and ipywidgets. See https://ipywidgets.readthedocs.io/en/stable/user_install.html\n",
      "  from .autonotebook import tqdm as notebook_tqdm\n"
     ]
    }
   ],
   "source": [
    "from __future__ import print_function\n",
    "import torch\n",
    "import torch.nn as nn\n",
    "import torch.nn.functional as F\n",
    "import torch.optim as optim\n",
    "from torchvision import datasets, transforms"
   ]
  },
  {
   "cell_type": "code",
   "execution_count": 2,
   "metadata": {},
   "outputs": [],
   "source": [
    "train_transforms = transforms.Compose([\n",
    "    transforms.ColorJitter(brightness=0.3,contrast=0.3,saturation=0.3,hue=0.3),\n",
    "    transforms.RandomRotation((-10.0,10.0), fill=(1,)),\n",
    "    transforms.ToTensor(),\n",
    "    transforms.Normalize(mean=(0.1307,),std=(0.3081))\n",
    "])\n",
    "\n",
    "test_transforms = transforms.Compose([\n",
    "\n",
    "    transforms.ToTensor(),\n",
    "    transforms.Normalize(mean=(0.1307,),std=(0.3081,))\n",
    "\n",
    "])"
   ]
  },
  {
   "cell_type": "code",
   "execution_count": 3,
   "metadata": {},
   "outputs": [],
   "source": [
    "train= datasets.mnist.MNIST(root=\"./data\",train=True,download=True,transform=train_transforms)\n",
    "test = datasets.mnist.MNIST(root=\"./data\",train=False,download=True,transform=test_transforms)"
   ]
  },
  {
   "cell_type": "code",
   "execution_count": 4,
   "metadata": {},
   "outputs": [],
   "source": [
    "SEED = 42\n",
    "cuda  = torch.cuda.is_available()\n",
    "\n",
    "if cuda:\n",
    "    torch.cuda.manual_seed(SEED)\n",
    "\n",
    "dataloader_args = dict(shuffle=True,batch_size=128,num_workers=4,pin_memory=True) if cuda else dict(batch_Size=128,shuffle=True)\n",
    "\n",
    "train_loader = torch.utils.data.DataLoader(train,**dataloader_args)\n",
    "test_loader = torch.utils.data.DataLoader(test,**dataloader_args)"
   ]
  },
  {
   "cell_type": "code",
   "execution_count": 5,
   "metadata": {},
   "outputs": [],
   "source": [
    "# from S7.model_test import *\n",
    "from modelv2_3 import ModelV2\n",
    "from utils import *"
   ]
  },
  {
   "cell_type": "code",
   "execution_count": 6,
   "metadata": {},
   "outputs": [
    {
     "name": "stdout",
     "output_type": "stream",
     "text": [
      "Defaulting to user installation because normal site-packages is not writeable\n",
      "Requirement already satisfied: torchsummary in c:\\users\\sriharsha\\appdata\\roaming\\python\\python38\\site-packages (1.5.1)\n",
      "cuda\n",
      "----------------------------------------------------------------\n",
      "        Layer (type)               Output Shape         Param #\n",
      "================================================================\n",
      "            Conv2d-1            [-1, 8, 26, 26]              80\n",
      "       BatchNorm2d-2            [-1, 8, 26, 26]              16\n",
      "              ReLU-3            [-1, 8, 26, 26]               0\n",
      "           Dropout-4            [-1, 8, 26, 26]               0\n",
      "            Conv2d-5           [-1, 16, 26, 26]           1,168\n",
      "       BatchNorm2d-6           [-1, 16, 26, 26]              32\n",
      "              ReLU-7           [-1, 16, 26, 26]               0\n",
      "           Dropout-8           [-1, 16, 26, 26]               0\n",
      "            Conv2d-9            [-1, 8, 26, 26]             136\n",
      "      BatchNorm2d-10            [-1, 8, 26, 26]              16\n",
      "             ReLU-11            [-1, 8, 26, 26]               0\n",
      "          Dropout-12            [-1, 8, 26, 26]               0\n",
      "        MaxPool2d-13            [-1, 8, 13, 13]               0\n",
      "           Conv2d-14           [-1, 10, 11, 11]             730\n",
      "      BatchNorm2d-15           [-1, 10, 11, 11]              20\n",
      "             ReLU-16           [-1, 10, 11, 11]               0\n",
      "          Dropout-17           [-1, 10, 11, 11]               0\n",
      "           Conv2d-18             [-1, 12, 9, 9]           1,092\n",
      "      BatchNorm2d-19             [-1, 12, 9, 9]              24\n",
      "             ReLU-20             [-1, 12, 9, 9]               0\n",
      "          Dropout-21             [-1, 12, 9, 9]               0\n",
      "           Conv2d-22             [-1, 16, 7, 7]           1,744\n",
      "      BatchNorm2d-23             [-1, 16, 7, 7]              32\n",
      "             ReLU-24             [-1, 16, 7, 7]               0\n",
      "          Dropout-25             [-1, 16, 7, 7]               0\n",
      "           Conv2d-26             [-1, 18, 5, 5]           2,610\n",
      "      BatchNorm2d-27             [-1, 18, 5, 5]              36\n",
      "             ReLU-28             [-1, 18, 5, 5]               0\n",
      "          Dropout-29             [-1, 18, 5, 5]               0\n",
      "        AvgPool2d-30             [-1, 18, 1, 1]               0\n",
      "           Conv2d-31             [-1, 10, 1, 1]             190\n",
      "================================================================\n",
      "Total params: 7,926\n",
      "Trainable params: 7,926\n",
      "Non-trainable params: 0\n",
      "----------------------------------------------------------------\n",
      "Input size (MB): 0.00\n",
      "Forward/backward pass size (MB): 0.77\n",
      "Params size (MB): 0.03\n",
      "Estimated Total Size (MB): 0.81\n",
      "----------------------------------------------------------------\n"
     ]
    }
   ],
   "source": [
    "!pip install torchsummary\n",
    "from torchsummary import summary\n",
    "use_cuda = torch.cuda.is_available()\n",
    "device = torch.device(\"cuda\" if use_cuda else \"cpu\")\n",
    "print(device)\n",
    "model = ModelV2().to(device)\n",
    "summary(model, input_size=(1, 28, 28))"
   ]
  },
  {
   "cell_type": "code",
   "execution_count": 7,
   "metadata": {},
   "outputs": [
    {
     "name": "stdout",
     "output_type": "stream",
     "text": [
      "EPOCH: 0\n"
     ]
    },
    {
     "name": "stderr",
     "output_type": "stream",
     "text": [
      "  0%|          | 0/469 [00:00<?, ?it/s]"
     ]
    },
    {
     "name": "stderr",
     "output_type": "stream",
     "text": [
      "Loss = 0.21671928465366364,batch_idx = 468, accuracy = 77.64333333333333: 100%|██████████| 469/469 [00:20<00:00, 23.32it/s] \n"
     ]
    },
    {
     "name": "stdout",
     "output_type": "stream",
     "text": [
      "\n",
      " Test set Avg Loss = 981.5912, Accuracy 9775/10000,(97.75%)\n",
      "\n",
      "EPOCH: 1\n"
     ]
    },
    {
     "name": "stderr",
     "output_type": "stream",
     "text": [
      "Loss = 0.08732474595308304,batch_idx = 468, accuracy = 96.47333333333333: 100%|██████████| 469/469 [00:22<00:00, 21.29it/s] \n"
     ]
    },
    {
     "name": "stdout",
     "output_type": "stream",
     "text": [
      "\n",
      " Test set Avg Loss = 797.4888, Accuracy 9761/10000,(97.61%)\n",
      "\n",
      "EPOCH: 2\n"
     ]
    },
    {
     "name": "stderr",
     "output_type": "stream",
     "text": [
      "Loss = 0.12170324474573135,batch_idx = 468, accuracy = 97.255: 100%|██████████| 469/469 [00:21<00:00, 21.70it/s]            \n"
     ]
    },
    {
     "name": "stdout",
     "output_type": "stream",
     "text": [
      "\n",
      " Test set Avg Loss = 451.2873, Accuracy 9859/10000,(98.59%)\n",
      "\n",
      "EPOCH: 3\n"
     ]
    },
    {
     "name": "stderr",
     "output_type": "stream",
     "text": [
      "Loss = 0.03526816889643669,batch_idx = 468, accuracy = 97.49: 100%|██████████| 469/469 [00:24<00:00, 19.11it/s]             \n"
     ]
    },
    {
     "name": "stdout",
     "output_type": "stream",
     "text": [
      "\n",
      " Test set Avg Loss = 409.7541, Accuracy 9864/10000,(98.64%)\n",
      "\n",
      "EPOCH: 4\n"
     ]
    },
    {
     "name": "stderr",
     "output_type": "stream",
     "text": [
      "Loss = 0.07112979143857956,batch_idx = 468, accuracy = 97.76666666666667: 100%|██████████| 469/469 [00:25<00:00, 18.17it/s] \n"
     ]
    },
    {
     "name": "stdout",
     "output_type": "stream",
     "text": [
      "\n",
      " Test set Avg Loss = 360.1209, Accuracy 9893/10000,(98.93%)\n",
      "\n",
      "EPOCH: 5\n"
     ]
    },
    {
     "name": "stderr",
     "output_type": "stream",
     "text": [
      "Loss = 0.04636910930275917,batch_idx = 468, accuracy = 97.86666666666666: 100%|██████████| 469/469 [00:22<00:00, 21.04it/s] \n"
     ]
    },
    {
     "name": "stdout",
     "output_type": "stream",
     "text": [
      "\n",
      " Test set Avg Loss = 426.5056, Accuracy 9863/10000,(98.63%)\n",
      "\n",
      "EPOCH: 6\n"
     ]
    },
    {
     "name": "stderr",
     "output_type": "stream",
     "text": [
      "Loss = 0.03442150726914406,batch_idx = 468, accuracy = 98.255: 100%|██████████| 469/469 [00:20<00:00, 23.08it/s]            \n"
     ]
    },
    {
     "name": "stdout",
     "output_type": "stream",
     "text": [
      "\n",
      " Test set Avg Loss = 334.7114, Accuracy 9905/10000,(99.05%)\n",
      "\n",
      "EPOCH: 7\n"
     ]
    },
    {
     "name": "stderr",
     "output_type": "stream",
     "text": [
      "Loss = 0.05555060878396034,batch_idx = 468, accuracy = 98.285: 100%|██████████| 469/469 [00:20<00:00, 22.78it/s]            \n"
     ]
    },
    {
     "name": "stdout",
     "output_type": "stream",
     "text": [
      "\n",
      " Test set Avg Loss = 318.5554, Accuracy 9899/10000,(98.99%)\n",
      "\n",
      "EPOCH: 8\n"
     ]
    },
    {
     "name": "stderr",
     "output_type": "stream",
     "text": [
      "Loss = 0.050389986485242844,batch_idx = 468, accuracy = 98.38833333333334: 100%|██████████| 469/469 [00:20<00:00, 22.70it/s]\n"
     ]
    },
    {
     "name": "stdout",
     "output_type": "stream",
     "text": [
      "\n",
      " Test set Avg Loss = 294.9884, Accuracy 9905/10000,(99.05%)\n",
      "\n",
      "EPOCH: 9\n"
     ]
    },
    {
     "name": "stderr",
     "output_type": "stream",
     "text": [
      "Loss = 0.06827911734580994,batch_idx = 468, accuracy = 98.33: 100%|██████████| 469/469 [00:21<00:00, 21.78it/s]             \n"
     ]
    },
    {
     "name": "stdout",
     "output_type": "stream",
     "text": [
      "\n",
      " Test set Avg Loss = 312.4145, Accuracy 9900/10000,(99.00%)\n",
      "\n",
      "EPOCH: 10\n"
     ]
    },
    {
     "name": "stderr",
     "output_type": "stream",
     "text": [
      "Loss = 0.0754033699631691,batch_idx = 468, accuracy = 98.38166666666666: 100%|██████████| 469/469 [00:20<00:00, 23.16it/s]  \n"
     ]
    },
    {
     "name": "stdout",
     "output_type": "stream",
     "text": [
      "\n",
      " Test set Avg Loss = 300.6322, Accuracy 9903/10000,(99.03%)\n",
      "\n",
      "EPOCH: 11\n"
     ]
    },
    {
     "name": "stderr",
     "output_type": "stream",
     "text": [
      "Loss = 0.030229831114411354,batch_idx = 468, accuracy = 98.29333333333334: 100%|██████████| 469/469 [00:22<00:00, 21.20it/s]\n"
     ]
    },
    {
     "name": "stdout",
     "output_type": "stream",
     "text": [
      "\n",
      " Test set Avg Loss = 291.2478, Accuracy 9906/10000,(99.06%)\n",
      "\n",
      "EPOCH: 12\n"
     ]
    },
    {
     "name": "stderr",
     "output_type": "stream",
     "text": [
      "Loss = 0.027437759563326836,batch_idx = 468, accuracy = 98.325: 100%|██████████| 469/469 [00:21<00:00, 21.66it/s]           \n"
     ]
    },
    {
     "name": "stdout",
     "output_type": "stream",
     "text": [
      "\n",
      " Test set Avg Loss = 278.3466, Accuracy 9906/10000,(99.06%)\n",
      "\n",
      "EPOCH: 13\n"
     ]
    },
    {
     "name": "stderr",
     "output_type": "stream",
     "text": [
      "Loss = 0.1510133594274521,batch_idx = 468, accuracy = 98.405: 100%|██████████| 469/469 [00:20<00:00, 22.49it/s]             \n"
     ]
    },
    {
     "name": "stdout",
     "output_type": "stream",
     "text": [
      "\n",
      " Test set Avg Loss = 289.2189, Accuracy 9905/10000,(99.05%)\n",
      "\n",
      "EPOCH: 14\n"
     ]
    },
    {
     "name": "stderr",
     "output_type": "stream",
     "text": [
      "Loss = 0.05790567398071289,batch_idx = 468, accuracy = 98.41: 100%|██████████| 469/469 [00:19<00:00, 23.57it/s]             \n"
     ]
    },
    {
     "name": "stdout",
     "output_type": "stream",
     "text": [
      "\n",
      " Test set Avg Loss = 305.2014, Accuracy 9900/10000,(99.00%)\n",
      "\n"
     ]
    }
   ],
   "source": [
    "from torch.optim.lr_scheduler import StepLR\n",
    "\n",
    "model =  ModelV2().to(device)\n",
    "optimizer = optim.SGD(model.parameters(), lr=0.01, momentum=0.9)\n",
    "scheduler = StepLR(optimizer,step_size=6,gamma=0.1)\n",
    "EPOCHS = 15\n",
    "for epoch in range(EPOCHS):\n",
    "    print(\"EPOCH:\", epoch)\n",
    "    train(model, device, train_loader,optimizer, epoch)\n",
    "    scheduler.step()\n",
    "    test(model, device, test_loader,epoch)"
   ]
  },
  {
   "cell_type": "code",
   "execution_count": null,
   "metadata": {},
   "outputs": [],
   "source": []
  },
  {
   "cell_type": "code",
   "execution_count": null,
   "metadata": {},
   "outputs": [],
   "source": []
  },
  {
   "cell_type": "code",
   "execution_count": null,
   "metadata": {},
   "outputs": [],
   "source": []
  }
 ],
 "metadata": {
  "kernelspec": {
   "display_name": "Python 3",
   "language": "python",
   "name": "python3"
  },
  "language_info": {
   "codemirror_mode": {
    "name": "ipython",
    "version": 3
   },
   "file_extension": ".py",
   "mimetype": "text/x-python",
   "name": "python",
   "nbconvert_exporter": "python",
   "pygments_lexer": "ipython3",
   "version": "3.8.7"
  }
 },
 "nbformat": 4,
 "nbformat_minor": 2
}
